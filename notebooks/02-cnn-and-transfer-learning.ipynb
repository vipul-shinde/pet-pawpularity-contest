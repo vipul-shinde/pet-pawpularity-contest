{
 "cells": [
  {
   "cell_type": "code",
   "execution_count": 1,
   "id": "88dd94d4",
   "metadata": {
    "_cell_guid": "b1076dfc-b9ad-4769-8c92-a6c4dae69d19",
    "_uuid": "8f2839f25d086af736a60e9eeb907d3b93b6e0e5",
    "execution": {
     "iopub.execute_input": "2021-11-27T02:28:15.960312Z",
     "iopub.status.busy": "2021-11-27T02:28:15.958737Z",
     "iopub.status.idle": "2021-11-27T02:28:21.832867Z",
     "shell.execute_reply": "2021-11-27T02:28:21.831895Z",
     "shell.execute_reply.started": "2021-11-26T20:39:46.094728Z"
    },
    "papermill": {
     "duration": 5.907021,
     "end_time": "2021-11-27T02:28:21.833024",
     "exception": false,
     "start_time": "2021-11-27T02:28:15.926003",
     "status": "completed"
    },
    "tags": []
   },
   "outputs": [],
   "source": [
    "# Importing the libraries\n",
    "import os\n",
    "import shutil\n",
    "import random\n",
    "import glob\n",
    "from tqdm.notebook import tqdm\n",
    "import numpy as np\n",
    "import pandas as pd\n",
    "import matplotlib.pyplot as plt\n",
    "import seaborn as sns\n",
    "import tensorflow as tf\n",
    "from tensorflow import keras\n",
    "import cv2\n",
    "from PIL import Image\n",
    "from tensorflow.keras.preprocessing.image import ImageDataGenerator"
   ]
  },
  {
   "cell_type": "code",
   "execution_count": 2,
   "id": "9bc01c4b",
   "metadata": {
    "execution": {
     "iopub.execute_input": "2021-11-27T02:28:21.893279Z",
     "iopub.status.busy": "2021-11-27T02:28:21.892524Z",
     "iopub.status.idle": "2021-11-27T02:28:21.941194Z",
     "shell.execute_reply": "2021-11-27T02:28:21.941646Z",
     "shell.execute_reply.started": "2021-11-26T20:42:07.712287Z"
    },
    "papermill": {
     "duration": 0.080187,
     "end_time": "2021-11-27T02:28:21.941791",
     "exception": false,
     "start_time": "2021-11-27T02:28:21.861604",
     "status": "completed"
    },
    "tags": []
   },
   "outputs": [
    {
     "data": {
      "text/html": [
       "<div>\n",
       "<style scoped>\n",
       "    .dataframe tbody tr th:only-of-type {\n",
       "        vertical-align: middle;\n",
       "    }\n",
       "\n",
       "    .dataframe tbody tr th {\n",
       "        vertical-align: top;\n",
       "    }\n",
       "\n",
       "    .dataframe thead th {\n",
       "        text-align: right;\n",
       "    }\n",
       "</style>\n",
       "<table border=\"1\" class=\"dataframe\">\n",
       "  <thead>\n",
       "    <tr style=\"text-align: right;\">\n",
       "      <th></th>\n",
       "      <th>Id</th>\n",
       "      <th>Subject Focus</th>\n",
       "      <th>Eyes</th>\n",
       "      <th>Face</th>\n",
       "      <th>Near</th>\n",
       "      <th>Action</th>\n",
       "      <th>Accessory</th>\n",
       "      <th>Group</th>\n",
       "      <th>Collage</th>\n",
       "      <th>Human</th>\n",
       "      <th>Occlusion</th>\n",
       "      <th>Info</th>\n",
       "      <th>Blur</th>\n",
       "      <th>Pawpularity</th>\n",
       "    </tr>\n",
       "  </thead>\n",
       "  <tbody>\n",
       "    <tr>\n",
       "      <th>0</th>\n",
       "      <td>0007de18844b0dbbb5e1f607da0606e0</td>\n",
       "      <td>0</td>\n",
       "      <td>1</td>\n",
       "      <td>1</td>\n",
       "      <td>1</td>\n",
       "      <td>0</td>\n",
       "      <td>0</td>\n",
       "      <td>1</td>\n",
       "      <td>0</td>\n",
       "      <td>0</td>\n",
       "      <td>0</td>\n",
       "      <td>0</td>\n",
       "      <td>0</td>\n",
       "      <td>63</td>\n",
       "    </tr>\n",
       "    <tr>\n",
       "      <th>1</th>\n",
       "      <td>0009c66b9439883ba2750fb825e1d7db</td>\n",
       "      <td>0</td>\n",
       "      <td>1</td>\n",
       "      <td>1</td>\n",
       "      <td>0</td>\n",
       "      <td>0</td>\n",
       "      <td>0</td>\n",
       "      <td>0</td>\n",
       "      <td>0</td>\n",
       "      <td>0</td>\n",
       "      <td>0</td>\n",
       "      <td>0</td>\n",
       "      <td>0</td>\n",
       "      <td>42</td>\n",
       "    </tr>\n",
       "    <tr>\n",
       "      <th>2</th>\n",
       "      <td>0013fd999caf9a3efe1352ca1b0d937e</td>\n",
       "      <td>0</td>\n",
       "      <td>1</td>\n",
       "      <td>1</td>\n",
       "      <td>1</td>\n",
       "      <td>0</td>\n",
       "      <td>0</td>\n",
       "      <td>0</td>\n",
       "      <td>0</td>\n",
       "      <td>1</td>\n",
       "      <td>1</td>\n",
       "      <td>0</td>\n",
       "      <td>0</td>\n",
       "      <td>28</td>\n",
       "    </tr>\n",
       "    <tr>\n",
       "      <th>3</th>\n",
       "      <td>0018df346ac9c1d8413cfcc888ca8246</td>\n",
       "      <td>0</td>\n",
       "      <td>1</td>\n",
       "      <td>1</td>\n",
       "      <td>1</td>\n",
       "      <td>0</td>\n",
       "      <td>0</td>\n",
       "      <td>0</td>\n",
       "      <td>0</td>\n",
       "      <td>0</td>\n",
       "      <td>0</td>\n",
       "      <td>0</td>\n",
       "      <td>0</td>\n",
       "      <td>15</td>\n",
       "    </tr>\n",
       "    <tr>\n",
       "      <th>4</th>\n",
       "      <td>001dc955e10590d3ca4673f034feeef2</td>\n",
       "      <td>0</td>\n",
       "      <td>0</td>\n",
       "      <td>0</td>\n",
       "      <td>1</td>\n",
       "      <td>0</td>\n",
       "      <td>0</td>\n",
       "      <td>1</td>\n",
       "      <td>0</td>\n",
       "      <td>0</td>\n",
       "      <td>0</td>\n",
       "      <td>0</td>\n",
       "      <td>0</td>\n",
       "      <td>72</td>\n",
       "    </tr>\n",
       "  </tbody>\n",
       "</table>\n",
       "</div>"
      ],
      "text/plain": [
       "                                 Id  Subject Focus  Eyes  Face  Near  Action  \\\n",
       "0  0007de18844b0dbbb5e1f607da0606e0              0     1     1     1       0   \n",
       "1  0009c66b9439883ba2750fb825e1d7db              0     1     1     0       0   \n",
       "2  0013fd999caf9a3efe1352ca1b0d937e              0     1     1     1       0   \n",
       "3  0018df346ac9c1d8413cfcc888ca8246              0     1     1     1       0   \n",
       "4  001dc955e10590d3ca4673f034feeef2              0     0     0     1       0   \n",
       "\n",
       "   Accessory  Group  Collage  Human  Occlusion  Info  Blur  Pawpularity  \n",
       "0          0      1        0      0          0     0     0           63  \n",
       "1          0      0        0      0          0     0     0           42  \n",
       "2          0      0        0      1          1     0     0           28  \n",
       "3          0      0        0      0          0     0     0           15  \n",
       "4          0      1        0      0          0     0     0           72  "
      ]
     },
     "execution_count": 2,
     "metadata": {},
     "output_type": "execute_result"
    }
   ],
   "source": [
    "# Importing the dataset\n",
    "df_meta = pd.read_csv(\"../input/petfinder-pawpularity-score/train.csv\")\n",
    "df_meta.head()"
   ]
  },
  {
   "cell_type": "code",
   "execution_count": 3,
   "id": "fa197638",
   "metadata": {
    "execution": {
     "iopub.execute_input": "2021-11-27T02:28:22.003713Z",
     "iopub.status.busy": "2021-11-27T02:28:22.002150Z",
     "iopub.status.idle": "2021-11-27T02:28:22.006413Z",
     "shell.execute_reply": "2021-11-27T02:28:22.006838Z",
     "shell.execute_reply.started": "2021-11-26T20:42:08.86499Z"
    },
    "papermill": {
     "duration": 0.035672,
     "end_time": "2021-11-27T02:28:22.006965",
     "exception": false,
     "start_time": "2021-11-27T02:28:21.971293",
     "status": "completed"
    },
    "tags": []
   },
   "outputs": [
    {
     "data": {
      "text/plain": [
       "(9912, 14)"
      ]
     },
     "execution_count": 3,
     "metadata": {},
     "output_type": "execute_result"
    }
   ],
   "source": [
    "df_meta.shape"
   ]
  },
  {
   "cell_type": "code",
   "execution_count": 4,
   "id": "bb4e02e5",
   "metadata": {
    "execution": {
     "iopub.execute_input": "2021-11-27T02:28:22.070480Z",
     "iopub.status.busy": "2021-11-27T02:28:22.069734Z",
     "iopub.status.idle": "2021-11-27T02:28:22.458915Z",
     "shell.execute_reply": "2021-11-27T02:28:22.459288Z",
     "shell.execute_reply.started": "2021-11-26T20:42:09.735801Z"
    },
    "papermill": {
     "duration": 0.423638,
     "end_time": "2021-11-27T02:28:22.459448",
     "exception": false,
     "start_time": "2021-11-27T02:28:22.035810",
     "status": "completed"
    },
    "tags": []
   },
   "outputs": [
    {
     "data": {
      "text/plain": [
       "<AxesSubplot:>"
      ]
     },
     "execution_count": 4,
     "metadata": {},
     "output_type": "execute_result"
    },
    {
     "data": {
      "image/png": "[encoded data removed]",
      "text/plain": [
       "<Figure size 432x288 with 1 Axes>"
      ]
     },
     "metadata": {
      "needs_background": "light"
     },
     "output_type": "display_data"
    }
   ],
   "source": [
    "df_meta[\"Pawpularity\"].hist()"
   ]
  },
  {
   "cell_type": "code",
   "execution_count": 5,
   "id": "2d470b26",
   "metadata": {
    "execution": {
     "iopub.execute_input": "2021-11-27T02:28:22.521809Z",
     "iopub.status.busy": "2021-11-27T02:28:22.521203Z",
     "iopub.status.idle": "2021-11-27T02:28:22.523550Z",
     "shell.execute_reply": "2021-11-27T02:28:22.523962Z",
     "shell.execute_reply.started": "2021-11-26T20:42:10.80269Z"
    },
    "papermill": {
     "duration": 0.035451,
     "end_time": "2021-11-27T02:28:22.524081",
     "exception": false,
     "start_time": "2021-11-27T02:28:22.488630",
     "status": "completed"
    },
    "tags": []
   },
   "outputs": [],
   "source": [
    "# Creating seperate directories for train, test and validation sets\n",
    "WORK_DIR = \".\"\n",
    "os.mkdir(WORK_DIR + \"/train\")\n",
    "os.mkdir(WORK_DIR + \"/test\")\n",
    "os.mkdir(WORK_DIR + \"/validation\")"
   ]
  },
  {
   "cell_type": "code",
   "execution_count": 6,
   "id": "65a96253",
   "metadata": {
    "execution": {
     "iopub.execute_input": "2021-11-27T02:28:22.588105Z",
     "iopub.status.busy": "2021-11-27T02:28:22.587167Z",
     "iopub.status.idle": "2021-11-27T02:28:22.589715Z",
     "shell.execute_reply": "2021-11-27T02:28:22.589161Z",
     "shell.execute_reply.started": "2021-11-26T20:56:39.061748Z"
    },
    "papermill": {
     "duration": 0.037183,
     "end_time": "2021-11-27T02:28:22.589823",
     "exception": false,
     "start_time": "2021-11-27T02:28:22.552640",
     "status": "completed"
    },
    "tags": []
   },
   "outputs": [],
   "source": [
    "# Creating a config class to store all our configurations\n",
    "class config:\n",
    "    \n",
    "    # Image and tabular paths\n",
    "    DIRECTORY_PATH = \"../input/petfinder-pawpularity-score\"\n",
    "    IMAGES_FOLDER_PATH = DIRECTORY_PATH + \"/train\"\n",
    "    METADATA_FILE = DIRECTORY_PATH + \"/train.csv\"\n",
    "    \n",
    "    WORK_DIRECTORY = \".\"\n",
    "    TRAIN_IMAGES_FOLDER = WORK_DIRECTORY + \"/train\"\n",
    "    TEST_IMAGES_FOLDER = WORK_DIRECTORY + \"/test\"\n",
    "    VALIDATION_IMAGES_FOLDER = WORK_DIRECTORY + \"/validation\"\n",
    "    TRAIN_DATA = WORK_DIRECTORY + \"/train.csv\"\n",
    "    TEST_DATA = WORK_DIRECTORY + \"/test.csv\"\n",
    "    VALIDATION_DATA = WORK_DIRECTORY + \"/validation.csv\"\n",
    "    \n",
    "    # Input parameters for data preprocessing\n",
    "    TARGET_NAME = \"Pawpularity\"\n",
    "    VALIDATION_SIZE = 0.15\n",
    "    TEST_SIZE = 0.10\n",
    "    SEED = 42\n",
    "    \n",
    "    # Tensorflow settings for model training\n",
    "    IMAGE_HEIGHT = 299\n",
    "    IMAGE_WIDTH = 299\n",
    "    NO_CHANNELS = 3\n",
    "    BATCH_SIZE = 32\n",
    "    EPOCHS = 20\n",
    "    DROPOUT = 0.5\n",
    "    LEARNING_RATE = 0.001\n",
    "    PATIENCE = 5"
   ]
  },
  {
   "cell_type": "code",
   "execution_count": 7,
   "id": "a2ecfd21",
   "metadata": {
    "execution": {
     "iopub.execute_input": "2021-11-27T02:28:22.652398Z",
     "iopub.status.busy": "2021-11-27T02:28:22.651639Z",
     "iopub.status.idle": "2021-11-27T02:28:22.654064Z",
     "shell.execute_reply": "2021-11-27T02:28:22.653649Z",
     "shell.execute_reply.started": "2021-11-26T20:42:40.259478Z"
    },
    "papermill": {
     "duration": 0.03543,
     "end_time": "2021-11-27T02:28:22.654173",
     "exception": false,
     "start_time": "2021-11-27T02:28:22.618743",
     "status": "completed"
    },
    "tags": []
   },
   "outputs": [],
   "source": [
    "# Creating a function that gives a file path given its input\n",
    "def image_path(input_image, dirname=config.IMAGES_FOLDER_PATH):\n",
    "    return os.path.join(dirname, f\"{input_image}.jpg\")"
   ]
  },
  {
   "cell_type": "code",
   "execution_count": 8,
   "id": "4c87563a",
   "metadata": {
    "execution": {
     "iopub.execute_input": "2021-11-27T02:28:22.717149Z",
     "iopub.status.busy": "2021-11-27T02:28:22.716401Z",
     "iopub.status.idle": "2021-11-27T02:28:22.740255Z",
     "shell.execute_reply": "2021-11-27T02:28:22.740693Z",
     "shell.execute_reply.started": "2021-11-26T20:42:41.744059Z"
    },
    "papermill": {
     "duration": 0.057094,
     "end_time": "2021-11-27T02:28:22.740813",
     "exception": false,
     "start_time": "2021-11-27T02:28:22.683719",
     "status": "completed"
    },
    "tags": []
   },
   "outputs": [],
   "source": [
    "# Creating a new column containing the file path for each image\n",
    "df_meta[\"image_path\"] = df_meta[\"Id\"].apply(lambda name: image_path(name))"
   ]
  },
  {
   "cell_type": "code",
   "execution_count": 9,
   "id": "ce3a3899",
   "metadata": {
    "execution": {
     "iopub.execute_input": "2021-11-27T02:28:22.810142Z",
     "iopub.status.busy": "2021-11-27T02:28:22.809505Z",
     "iopub.status.idle": "2021-11-27T02:28:22.812396Z",
     "shell.execute_reply": "2021-11-27T02:28:22.812791Z",
     "shell.execute_reply.started": "2021-11-26T20:42:46.991679Z"
    },
    "papermill": {
     "duration": 0.043057,
     "end_time": "2021-11-27T02:28:22.812913",
     "exception": false,
     "start_time": "2021-11-27T02:28:22.769856",
     "status": "completed"
    },
    "tags": []
   },
   "outputs": [
    {
     "data": {
      "text/html": [
       "<div>\n",
       "<style scoped>\n",
       "    .dataframe tbody tr th:only-of-type {\n",
       "        vertical-align: middle;\n",
       "    }\n",
       "\n",
       "    .dataframe tbody tr th {\n",
       "        vertical-align: top;\n",
       "    }\n",
       "\n",
       "    .dataframe thead th {\n",
       "        text-align: right;\n",
       "    }\n",
       "</style>\n",
       "<table border=\"1\" class=\"dataframe\">\n",
       "  <thead>\n",
       "    <tr style=\"text-align: right;\">\n",
       "      <th></th>\n",
       "      <th>Id</th>\n",
       "      <th>Subject Focus</th>\n",
       "      <th>Eyes</th>\n",
       "      <th>Face</th>\n",
       "      <th>Near</th>\n",
       "      <th>Action</th>\n",
       "      <th>Accessory</th>\n",
       "      <th>Group</th>\n",
       "      <th>Collage</th>\n",
       "      <th>Human</th>\n",
       "      <th>Occlusion</th>\n",
       "      <th>Info</th>\n",
       "      <th>Blur</th>\n",
       "      <th>Pawpularity</th>\n",
       "      <th>image_path</th>\n",
       "    </tr>\n",
       "  </thead>\n",
       "  <tbody>\n",
       "    <tr>\n",
       "      <th>0</th>\n",
       "      <td>0007de18844b0dbbb5e1f607da0606e0</td>\n",
       "      <td>0</td>\n",
       "      <td>1</td>\n",
       "      <td>1</td>\n",
       "      <td>1</td>\n",
       "      <td>0</td>\n",
       "      <td>0</td>\n",
       "      <td>1</td>\n",
       "      <td>0</td>\n",
       "      <td>0</td>\n",
       "      <td>0</td>\n",
       "      <td>0</td>\n",
       "      <td>0</td>\n",
       "      <td>63</td>\n",
       "      <td>../input/petfinder-pawpularity-score/train/000...</td>\n",
       "    </tr>\n",
       "    <tr>\n",
       "      <th>1</th>\n",
       "      <td>0009c66b9439883ba2750fb825e1d7db</td>\n",
       "      <td>0</td>\n",
       "      <td>1</td>\n",
       "      <td>1</td>\n",
       "      <td>0</td>\n",
       "      <td>0</td>\n",
       "      <td>0</td>\n",
       "      <td>0</td>\n",
       "      <td>0</td>\n",
       "      <td>0</td>\n",
       "      <td>0</td>\n",
       "      <td>0</td>\n",
       "      <td>0</td>\n",
       "      <td>42</td>\n",
       "      <td>../input/petfinder-pawpularity-score/train/000...</td>\n",
       "    </tr>\n",
       "    <tr>\n",
       "      <th>2</th>\n",
       "      <td>0013fd999caf9a3efe1352ca1b0d937e</td>\n",
       "      <td>0</td>\n",
       "      <td>1</td>\n",
       "      <td>1</td>\n",
       "      <td>1</td>\n",
       "      <td>0</td>\n",
       "      <td>0</td>\n",
       "      <td>0</td>\n",
       "      <td>0</td>\n",
       "      <td>1</td>\n",
       "      <td>1</td>\n",
       "      <td>0</td>\n",
       "      <td>0</td>\n",
       "      <td>28</td>\n",
       "      <td>../input/petfinder-pawpularity-score/train/001...</td>\n",
       "    </tr>\n",
       "    <tr>\n",
       "      <th>3</th>\n",
       "      <td>0018df346ac9c1d8413cfcc888ca8246</td>\n",
       "      <td>0</td>\n",
       "      <td>1</td>\n",
       "      <td>1</td>\n",
       "      <td>1</td>\n",
       "      <td>0</td>\n",
       "      <td>0</td>\n",
       "      <td>0</td>\n",
       "      <td>0</td>\n",
       "      <td>0</td>\n",
       "      <td>0</td>\n",
       "      <td>0</td>\n",
       "      <td>0</td>\n",
       "      <td>15</td>\n",
       "      <td>../input/petfinder-pawpularity-score/train/001...</td>\n",
       "    </tr>\n",
       "    <tr>\n",
       "      <th>4</th>\n",
       "      <td>001dc955e10590d3ca4673f034feeef2</td>\n",
       "      <td>0</td>\n",
       "      <td>0</td>\n",
       "      <td>0</td>\n",
       "      <td>1</td>\n",
       "      <td>0</td>\n",
       "      <td>0</td>\n",
       "      <td>1</td>\n",
       "      <td>0</td>\n",
       "      <td>0</td>\n",
       "      <td>0</td>\n",
       "      <td>0</td>\n",
       "      <td>0</td>\n",
       "      <td>72</td>\n",
       "      <td>../input/petfinder-pawpularity-score/train/001...</td>\n",
       "    </tr>\n",
       "  </tbody>\n",
       "</table>\n",
       "</div>"
      ],
      "text/plain": [
       "                                 Id  Subject Focus  Eyes  Face  Near  Action  \\\n",
       "0  0007de18844b0dbbb5e1f607da0606e0              0     1     1     1       0   \n",
       "1  0009c66b9439883ba2750fb825e1d7db              0     1     1     0       0   \n",
       "2  0013fd999caf9a3efe1352ca1b0d937e              0     1     1     1       0   \n",
       "3  0018df346ac9c1d8413cfcc888ca8246              0     1     1     1       0   \n",
       "4  001dc955e10590d3ca4673f034feeef2              0     0     0     1       0   \n",
       "\n",
       "   Accessory  Group  Collage  Human  Occlusion  Info  Blur  Pawpularity  \\\n",
       "0          0      1        0      0          0     0     0           63   \n",
       "1          0      0        0      0          0     0     0           42   \n",
       "2          0      0        0      1          1     0     0           28   \n",
       "3          0      0        0      0          0     0     0           15   \n",
       "4          0      1        0      0          0     0     0           72   \n",
       "\n",
       "                                          image_path  \n",
       "0  ../input/petfinder-pawpularity-score/train/000...  \n",
       "1  ../input/petfinder-pawpularity-score/train/000...  \n",
       "2  ../input/petfinder-pawpularity-score/train/001...  \n",
       "3  ../input/petfinder-pawpularity-score/train/001...  \n",
       "4  ../input/petfinder-pawpularity-score/train/001...  "
      ]
     },
     "execution_count": 9,
     "metadata": {},
     "output_type": "execute_result"
    }
   ],
   "source": [
    "df_meta.head()"
   ]
  },
  {
   "cell_type": "code",
   "execution_count": 10,
   "id": "96b9d862",
   "metadata": {
    "execution": {
     "iopub.execute_input": "2021-11-27T02:28:22.875371Z",
     "iopub.status.busy": "2021-11-27T02:28:22.874538Z",
     "iopub.status.idle": "2021-11-27T02:28:22.890339Z",
     "shell.execute_reply": "2021-11-27T02:28:22.889916Z",
     "shell.execute_reply.started": "2021-11-26T20:42:51.216627Z"
    },
    "papermill": {
     "duration": 0.047575,
     "end_time": "2021-11-27T02:28:22.890471",
     "exception": false,
     "start_time": "2021-11-27T02:28:22.842896",
     "status": "completed"
    },
    "tags": []
   },
   "outputs": [
    {
     "data": {
      "text/plain": [
       "0    4\n",
       "1    3\n",
       "2    2\n",
       "3    1\n",
       "4    4\n",
       "Name: Pawpularity_score_cat, dtype: category\n",
       "Categories (5, int64): [1 < 2 < 3 < 4 < 5]"
      ]
     },
     "execution_count": 10,
     "metadata": {},
     "output_type": "execute_result"
    }
   ],
   "source": [
    "# Creating strats for the pet pawpularity score\n",
    "df_meta[\"Pawpularity_score_cat\"] = pd.cut(df_meta[\"Pawpularity\"], bins=[0.0, 20.0, 40.0, 60.0, 80.0, np.inf], labels=[1, 2, 3, 4, 5])\n",
    "df_meta[\"Pawpularity_score_cat\"].head()"
   ]
  },
  {
   "cell_type": "code",
   "execution_count": 11,
   "id": "60077356",
   "metadata": {
    "execution": {
     "iopub.execute_input": "2021-11-27T02:28:22.972141Z",
     "iopub.status.busy": "2021-11-27T02:28:22.968781Z",
     "iopub.status.idle": "2021-11-27T02:28:23.191282Z",
     "shell.execute_reply": "2021-11-27T02:28:23.191813Z",
     "shell.execute_reply.started": "2021-11-26T20:42:52.490208Z"
    },
    "papermill": {
     "duration": 0.27107,
     "end_time": "2021-11-27T02:28:23.191968",
     "exception": false,
     "start_time": "2021-11-27T02:28:22.920898",
     "status": "completed"
    },
    "tags": []
   },
   "outputs": [
    {
     "data": {
      "text/plain": [
       "<AxesSubplot:>"
      ]
     },
     "execution_count": 11,
     "metadata": {},
     "output_type": "execute_result"
    },
    {
     "data": {
      "image/png": "[encoded data removed]",
      "text/plain": [
       "<Figure size 432x288 with 1 Axes>"
      ]
     },
     "metadata": {
      "needs_background": "light"
     },
     "output_type": "display_data"
    }
   ],
   "source": [
    "df_meta[\"Pawpularity_score_cat\"].hist()"
   ]
  },
  {
   "cell_type": "code",
   "execution_count": 12,
   "id": "1c3214e4",
   "metadata": {
    "execution": {
     "iopub.execute_input": "2021-11-27T02:28:23.260201Z",
     "iopub.status.busy": "2021-11-27T02:28:23.259625Z",
     "iopub.status.idle": "2021-11-27T02:28:23.392959Z",
     "shell.execute_reply": "2021-11-27T02:28:23.392503Z",
     "shell.execute_reply.started": "2021-11-26T20:42:53.644741Z"
    },
    "papermill": {
     "duration": 0.16924,
     "end_time": "2021-11-27T02:28:23.393083",
     "exception": false,
     "start_time": "2021-11-27T02:28:23.223843",
     "status": "completed"
    },
    "tags": []
   },
   "outputs": [],
   "source": [
    "# Splitting the dataset into train_full and test\n",
    "from sklearn.model_selection import StratifiedShuffleSplit\n",
    "split = StratifiedShuffleSplit(n_splits=1, test_size=config.TEST_SIZE, random_state=config.SEED)\n",
    "for train_index, test_index in split.split(df_meta, df_meta[\"Pawpularity_score_cat\"]):\n",
    "    strat_train_set_full = df_meta.loc[train_index]\n",
    "    strat_test_set = df_meta.loc[test_index]"
   ]
  },
  {
   "cell_type": "code",
   "execution_count": 13,
   "id": "1a1e040d",
   "metadata": {
    "execution": {
     "iopub.execute_input": "2021-11-27T02:28:23.459677Z",
     "iopub.status.busy": "2021-11-27T02:28:23.458884Z",
     "iopub.status.idle": "2021-11-27T02:28:23.464587Z",
     "shell.execute_reply": "2021-11-27T02:28:23.464998Z",
     "shell.execute_reply.started": "2021-11-26T20:42:54.827883Z"
    },
    "papermill": {
     "duration": 0.041002,
     "end_time": "2021-11-27T02:28:23.465123",
     "exception": false,
     "start_time": "2021-11-27T02:28:23.424121",
     "status": "completed"
    },
    "tags": []
   },
   "outputs": [
    {
     "data": {
      "text/plain": [
       "2    512\n",
       "3    209\n",
       "1    142\n",
       "4     73\n",
       "5     56\n",
       "Name: Pawpularity_score_cat, dtype: int64"
      ]
     },
     "execution_count": 13,
     "metadata": {},
     "output_type": "execute_result"
    }
   ],
   "source": [
    "# Checking the value_counts in our test data based on the score\n",
    "strat_test_set[\"Pawpularity_score_cat\"].value_counts()"
   ]
  },
  {
   "cell_type": "code",
   "execution_count": 14,
   "id": "4c19a4bf",
   "metadata": {
    "execution": {
     "iopub.execute_input": "2021-11-27T02:28:23.532072Z",
     "iopub.status.busy": "2021-11-27T02:28:23.529161Z",
     "iopub.status.idle": "2021-11-27T02:28:23.543156Z",
     "shell.execute_reply": "2021-11-27T02:28:23.543561Z",
     "shell.execute_reply.started": "2021-11-26T20:42:55.787622Z"
    },
    "papermill": {
     "duration": 0.048044,
     "end_time": "2021-11-27T02:28:23.543690",
     "exception": false,
     "start_time": "2021-11-27T02:28:23.495646",
     "status": "completed"
    },
    "tags": []
   },
   "outputs": [],
   "source": [
    "# Splitting the dataset into train and validation\n",
    "split = StratifiedShuffleSplit(n_splits=1, test_size=config.VALIDATION_SIZE, random_state=config.SEED)\n",
    "for train_index, val_index in split.split(strat_train_set_full, strat_train_set_full[\"Pawpularity_score_cat\"]):\n",
    "    strat_train_set = df_meta.loc[train_index]\n",
    "    strat_val_set = df_meta.loc[val_index]"
   ]
  },
  {
   "cell_type": "code",
   "execution_count": 15,
   "id": "2819ea0d",
   "metadata": {
    "execution": {
     "iopub.execute_input": "2021-11-27T02:28:23.612793Z",
     "iopub.status.busy": "2021-11-27T02:28:23.612100Z",
     "iopub.status.idle": "2021-11-27T02:28:23.614826Z",
     "shell.execute_reply": "2021-11-27T02:28:23.615327Z",
     "shell.execute_reply.started": "2021-11-26T20:42:56.998895Z"
    },
    "papermill": {
     "duration": 0.04076,
     "end_time": "2021-11-27T02:28:23.615483",
     "exception": false,
     "start_time": "2021-11-27T02:28:23.574723",
     "status": "completed"
    },
    "tags": []
   },
   "outputs": [
    {
     "data": {
      "text/plain": [
       "2    697\n",
       "3    287\n",
       "1    194\n",
       "4     91\n",
       "5     69\n",
       "Name: Pawpularity_score_cat, dtype: int64"
      ]
     },
     "execution_count": 15,
     "metadata": {},
     "output_type": "execute_result"
    }
   ],
   "source": [
    "# Checking the value_counts in our val data based on the score\n",
    "strat_val_set[\"Pawpularity_score_cat\"].value_counts()"
   ]
  },
  {
   "cell_type": "code",
   "execution_count": 16,
   "id": "554e93e0",
   "metadata": {
    "execution": {
     "iopub.execute_input": "2021-11-27T02:28:23.683017Z",
     "iopub.status.busy": "2021-11-27T02:28:23.682452Z",
     "iopub.status.idle": "2021-11-27T02:29:04.500962Z",
     "shell.execute_reply": "2021-11-27T02:29:04.501454Z",
     "shell.execute_reply.started": "2021-11-26T20:42:57.759839Z"
    },
    "papermill": {
     "duration": 40.854789,
     "end_time": "2021-11-27T02:29:04.501642",
     "exception": false,
     "start_time": "2021-11-27T02:28:23.646853",
     "status": "completed"
    },
    "tags": []
   },
   "outputs": [],
   "source": [
    "# Copying the images from main folder to their respective split dir.\n",
    "def copy_images(data, destination_dir):\n",
    "    for source_path in data[\"image_path\"]:\n",
    "        shutil.copy(source_path, destination_dir)\n",
    "\n",
    "copy_images(strat_train_set, config.TRAIN_IMAGES_FOLDER)\n",
    "copy_images(strat_val_set, config.VALIDATION_IMAGES_FOLDER)\n",
    "copy_images(strat_test_set, config.TEST_IMAGES_FOLDER)"
   ]
  },
  {
   "cell_type": "code",
   "execution_count": 17,
   "id": "9d6c2a2b",
   "metadata": {
    "execution": {
     "iopub.execute_input": "2021-11-27T02:29:04.574751Z",
     "iopub.status.busy": "2021-11-27T02:29:04.573813Z",
     "iopub.status.idle": "2021-11-27T02:29:04.575604Z",
     "shell.execute_reply": "2021-11-27T02:29:04.576042Z",
     "shell.execute_reply.started": "2021-11-26T20:43:38.804055Z"
    },
    "papermill": {
     "duration": 0.042743,
     "end_time": "2021-11-27T02:29:04.576202",
     "exception": false,
     "start_time": "2021-11-27T02:29:04.533459",
     "status": "completed"
    },
    "tags": []
   },
   "outputs": [],
   "source": [
    "# Dropping the Pawpularity_score_cat column and resetting index from train,val and test data\n",
    "for set_ in (strat_train_set, strat_val_set, strat_test_set):\n",
    "    set_.drop([\"Pawpularity_score_cat\", \"image_path\"], axis=1, inplace=True)\n",
    "    set_.reset_index(drop=True, inplace=True)"
   ]
  },
  {
   "cell_type": "code",
   "execution_count": 18,
   "id": "19e1779d",
   "metadata": {
    "execution": {
     "iopub.execute_input": "2021-11-27T02:29:04.671557Z",
     "iopub.status.busy": "2021-11-27T02:29:04.656559Z",
     "iopub.status.idle": "2021-11-27T02:29:04.673441Z",
     "shell.execute_reply": "2021-11-27T02:29:04.673819Z",
     "shell.execute_reply.started": "2021-11-26T20:43:50.232481Z"
    },
    "papermill": {
     "duration": 0.06479,
     "end_time": "2021-11-27T02:29:04.673957",
     "exception": false,
     "start_time": "2021-11-27T02:29:04.609167",
     "status": "completed"
    },
    "tags": []
   },
   "outputs": [],
   "source": [
    "# Creating a new column containing the file path for each image\n",
    "strat_train_set[\"image_path\"] = strat_train_set[\"Id\"].apply(lambda name: image_path(name, config.TRAIN_IMAGES_FOLDER))\n",
    "strat_val_set[\"image_path\"] = strat_val_set[\"Id\"].apply(lambda name: image_path(name, config.VALIDATION_IMAGES_FOLDER))\n",
    "strat_test_set[\"image_path\"] = strat_test_set[\"Id\"].apply(lambda name: image_path(name, config.TEST_IMAGES_FOLDER))"
   ]
  },
  {
   "cell_type": "code",
   "execution_count": 19,
   "id": "cfd4168a",
   "metadata": {
    "execution": {
     "iopub.execute_input": "2021-11-27T02:29:04.742054Z",
     "iopub.status.busy": "2021-11-27T02:29:04.741128Z",
     "iopub.status.idle": "2021-11-27T02:29:04.744160Z",
     "shell.execute_reply": "2021-11-27T02:29:04.744666Z",
     "shell.execute_reply.started": "2021-11-26T20:43:51.311306Z"
    },
    "papermill": {
     "duration": 0.039899,
     "end_time": "2021-11-27T02:29:04.744883",
     "exception": false,
     "start_time": "2021-11-27T02:29:04.704984",
     "status": "completed"
    },
    "tags": []
   },
   "outputs": [
    {
     "data": {
      "text/plain": [
       "0    ./train/15f7cde7ed93092bbd02dcd9cbf69e61.jpg\n",
       "1    ./train/4b439fc7d5f5f68fa366aee88405ec9a.jpg\n",
       "2    ./train/947564d9d53bb7ca769214d95e310b68.jpg\n",
       "3    ./train/d87c509bc16c8f53478ab9b434e522cc.jpg\n",
       "4    ./train/a48e5ca49c6a9459dba5166b2355125b.jpg\n",
       "Name: image_path, dtype: object"
      ]
     },
     "execution_count": 19,
     "metadata": {},
     "output_type": "execute_result"
    }
   ],
   "source": [
    "strat_train_set[\"image_path\"].head()"
   ]
  },
  {
   "cell_type": "code",
   "execution_count": 20,
   "id": "92da2616",
   "metadata": {
    "execution": {
     "iopub.execute_input": "2021-11-27T02:29:04.811686Z",
     "iopub.status.busy": "2021-11-27T02:29:04.810911Z",
     "iopub.status.idle": "2021-11-27T02:29:04.879093Z",
     "shell.execute_reply": "2021-11-27T02:29:04.878539Z",
     "shell.execute_reply.started": "2021-11-26T20:43:52.60065Z"
    },
    "papermill": {
     "duration": 0.102911,
     "end_time": "2021-11-27T02:29:04.879226",
     "exception": false,
     "start_time": "2021-11-27T02:29:04.776315",
     "status": "completed"
    },
    "tags": []
   },
   "outputs": [],
   "source": [
    "# Saving the train, test and val data into csv files\n",
    "strat_train_set.to_csv(config.TRAIN_DATA, index=False)\n",
    "strat_val_set.to_csv(config.VALIDATION_DATA, index=False)\n",
    "strat_test_set.to_csv(config.TEST_DATA, index=False)"
   ]
  },
  {
   "cell_type": "code",
   "execution_count": 21,
   "id": "3fc2c0cc",
   "metadata": {
    "execution": {
     "iopub.execute_input": "2021-11-27T02:29:04.952727Z",
     "iopub.status.busy": "2021-11-27T02:29:04.951763Z",
     "iopub.status.idle": "2021-11-27T02:29:05.026365Z",
     "shell.execute_reply": "2021-11-27T02:29:05.025709Z",
     "shell.execute_reply.started": "2021-11-26T20:43:53.917532Z"
    },
    "papermill": {
     "duration": 0.114022,
     "end_time": "2021-11-27T02:29:05.026509",
     "exception": false,
     "start_time": "2021-11-27T02:29:04.912487",
     "status": "completed"
    },
    "tags": []
   },
   "outputs": [
    {
     "name": "stdout",
     "output_type": "stream",
     "text": [
      "Found 7582 validated image filenames.\n",
      "Found 1338 validated image filenames.\n"
     ]
    }
   ],
   "source": [
    "# Creating ImageDataGenerator for our dataset\n",
    "train_datagen = ImageDataGenerator(\n",
    "    rescale = 1./255,\n",
    "    horizontal_flip=True,\n",
    ")\n",
    "\n",
    "validation_datagen = ImageDataGenerator(\n",
    "    rescale = 1./255\n",
    ")\n",
    "\n",
    "train_generator = train_datagen.flow_from_dataframe(\n",
    "    dataframe=strat_train_set,\n",
    "    x_col=\"image_path\",\n",
    "    y_col=\"Pawpularity\",\n",
    "    batch_size=config.BATCH_SIZE,\n",
    "    seed = config.SEED,\n",
    "    shuffle=True,\n",
    "    class_mode=\"raw\",\n",
    "    target_size=(config.IMAGE_HEIGHT, config.IMAGE_WIDTH),\n",
    "    color_mode=\"rgb\"\n",
    ")\n",
    "\n",
    "validation_generator = validation_datagen.flow_from_dataframe(\n",
    "    dataframe=strat_val_set,\n",
    "    x_col=\"image_path\",\n",
    "    y_col=\"Pawpularity\",\n",
    "    batch_size=config.BATCH_SIZE,\n",
    "    seed = config.SEED,\n",
    "    shuffle=True,\n",
    "    class_mode=\"raw\",\n",
    "    target_size=(config.IMAGE_HEIGHT, config.IMAGE_WIDTH),\n",
    "    color_mode=\"rgb\"\n",
    ")"
   ]
  },
  {
   "cell_type": "code",
   "execution_count": 22,
   "id": "77ecb016",
   "metadata": {
    "execution": {
     "iopub.execute_input": "2021-11-27T02:29:05.096283Z",
     "iopub.status.busy": "2021-11-27T02:29:05.095065Z",
     "iopub.status.idle": "2021-11-27T02:29:05.098792Z",
     "shell.execute_reply": "2021-11-27T02:29:05.098281Z",
     "shell.execute_reply.started": "2021-11-26T20:55:29.491166Z"
    },
    "papermill": {
     "duration": 0.040033,
     "end_time": "2021-11-27T02:29:05.098912",
     "exception": false,
     "start_time": "2021-11-27T02:29:05.058879",
     "status": "completed"
    },
    "tags": []
   },
   "outputs": [],
   "source": [
    "# Creating an exponential learning rate scheduler\n",
    "def exponential_decay(lr0, s):\n",
    "    def exponential_decay_fn(epoch):\n",
    "        return lr0 * 0.1**(epoch / s)\n",
    "    return exponential_decay_fn\n",
    "\n",
    "exponential_decay_fn = exponential_decay(lr0=config.LEARNING_RATE, s=20)\n",
    "lr_scheduler = keras.callbacks.LearningRateScheduler(exponential_decay_fn)"
   ]
  },
  {
   "cell_type": "code",
   "execution_count": 23,
   "id": "10617382",
   "metadata": {
    "execution": {
     "iopub.execute_input": "2021-11-27T02:29:05.216574Z",
     "iopub.status.busy": "2021-11-27T02:29:05.215727Z",
     "iopub.status.idle": "2021-11-27T02:29:05.217656Z",
     "shell.execute_reply": "2021-11-27T02:29:05.218071Z",
     "shell.execute_reply.started": "2021-11-26T20:43:59.419653Z"
    },
    "papermill": {
     "duration": 0.039251,
     "end_time": "2021-11-27T02:29:05.218194",
     "exception": false,
     "start_time": "2021-11-27T02:29:05.178943",
     "status": "completed"
    },
    "tags": []
   },
   "outputs": [],
   "source": [
    "# Using callbacks to save model parameters and perform early stopping\n",
    "checkpoint_cb = keras.callbacks.ModelCheckpoint(\"pawpularity_score.h5\", save_best_only=True)\n",
    "early_stopping_cb = keras.callbacks.EarlyStopping(patience=config.PATIENCE, restore_best_weights=True)"
   ]
  },
  {
   "cell_type": "code",
   "execution_count": 24,
   "id": "c5c727ed",
   "metadata": {
    "execution": {
     "iopub.execute_input": "2021-11-27T02:29:05.285245Z",
     "iopub.status.busy": "2021-11-27T02:29:05.283436Z",
     "iopub.status.idle": "2021-11-27T02:29:05.287548Z",
     "shell.execute_reply": "2021-11-27T02:29:05.287085Z",
     "shell.execute_reply.started": "2021-11-26T20:44:04.235692Z"
    },
    "papermill": {
     "duration": 0.037639,
     "end_time": "2021-11-27T02:29:05.287657",
     "exception": false,
     "start_time": "2021-11-27T02:29:05.250018",
     "status": "completed"
    },
    "tags": []
   },
   "outputs": [],
   "source": [
    "# Calculating the different step size for the model while training\n",
    "STEP_SIZE_TRAIN = train_generator.n // train_generator.batch_size\n",
    "STEP_SIZE_VALIDATION = validation_generator.n // validation_generator.batch_size"
   ]
  },
  {
   "cell_type": "code",
   "execution_count": 25,
   "id": "bfa36cf0",
   "metadata": {
    "execution": {
     "iopub.execute_input": "2021-11-27T02:29:05.357019Z",
     "iopub.status.busy": "2021-11-27T02:29:05.356320Z",
     "iopub.status.idle": "2021-11-27T02:29:11.925549Z",
     "shell.execute_reply": "2021-11-27T02:29:11.926024Z",
     "shell.execute_reply.started": "2021-11-26T20:56:47.207036Z"
    },
    "papermill": {
     "duration": 6.606978,
     "end_time": "2021-11-27T02:29:11.926177",
     "exception": false,
     "start_time": "2021-11-27T02:29:05.319199",
     "status": "completed"
    },
    "tags": []
   },
   "outputs": [
    {
     "name": "stderr",
     "output_type": "stream",
     "text": [
      "2021-11-27 02:29:05.587127: I tensorflow/stream_executor/cuda/cuda_gpu_executor.cc:937] successful NUMA node read from SysFS had negative value (-1), but there must be at least one NUMA node, so returning NUMA node zero\n",
      "2021-11-27 02:29:05.704972: I tensorflow/stream_executor/cuda/cuda_gpu_executor.cc:937] successful NUMA node read from SysFS had negative value (-1), but there must be at least one NUMA node, so returning NUMA node zero\n",
      "2021-11-27 02:29:05.705836: I tensorflow/stream_executor/cuda/cuda_gpu_executor.cc:937] successful NUMA node read from SysFS had negative value (-1), but there must be at least one NUMA node, so returning NUMA node zero\n",
      "2021-11-27 02:29:05.706986: I tensorflow/core/platform/cpu_feature_guard.cc:142] This TensorFlow binary is optimized with oneAPI Deep Neural Network Library (oneDNN) to use the following CPU instructions in performance-critical operations:  AVX2 AVX512F FMA\n",
      "To enable them in other operations, rebuild TensorFlow with the appropriate compiler flags.\n",
      "2021-11-27 02:29:05.708102: I tensorflow/stream_executor/cuda/cuda_gpu_executor.cc:937] successful NUMA node read from SysFS had negative value (-1), but there must be at least one NUMA node, so returning NUMA node zero\n",
      "2021-11-27 02:29:05.708780: I tensorflow/stream_executor/cuda/cuda_gpu_executor.cc:937] successful NUMA node read from SysFS had negative value (-1), but there must be at least one NUMA node, so returning NUMA node zero\n",
      "2021-11-27 02:29:05.709418: I tensorflow/stream_executor/cuda/cuda_gpu_executor.cc:937] successful NUMA node read from SysFS had negative value (-1), but there must be at least one NUMA node, so returning NUMA node zero\n",
      "2021-11-27 02:29:07.746358: I tensorflow/stream_executor/cuda/cuda_gpu_executor.cc:937] successful NUMA node read from SysFS had negative value (-1), but there must be at least one NUMA node, so returning NUMA node zero\n",
      "2021-11-27 02:29:07.747386: I tensorflow/stream_executor/cuda/cuda_gpu_executor.cc:937] successful NUMA node read from SysFS had negative value (-1), but there must be at least one NUMA node, so returning NUMA node zero\n",
      "2021-11-27 02:29:07.748376: I tensorflow/stream_executor/cuda/cuda_gpu_executor.cc:937] successful NUMA node read from SysFS had negative value (-1), but there must be at least one NUMA node, so returning NUMA node zero\n",
      "2021-11-27 02:29:07.749237: I tensorflow/core/common_runtime/gpu/gpu_device.cc:1510] Created device /job:localhost/replica:0/task:0/device:GPU:0 with 15403 MB memory:  -> device: 0, name: Tesla P100-PCIE-16GB, pci bus id: 0000:00:04.0, compute capability: 6.0\n"
     ]
    }
   ],
   "source": [
    "# Using transfer Learning to create a Xception model\n",
    "xcep_net = keras.models.load_model(\"../input/keras-applications-models/Xception.h5\")\n",
    "xcep_net.trainable=False\n",
    "\n",
    "xception_model = keras.models.Sequential([\n",
    "    keras.layers.Input(shape=(config.IMAGE_HEIGHT, config.IMAGE_WIDTH, 3)),\n",
    "    xcep_net,\n",
    "    keras.layers.BatchNormalization(),\n",
    "    keras.layers.Dropout(config.DROPOUT),\n",
    "    keras.layers.Dense(8, activation=\"relu\"),\n",
    "    keras.layers.Dense(1)\n",
    "])"
   ]
  },
  {
   "cell_type": "code",
   "execution_count": 26,
   "id": "e72100c0",
   "metadata": {
    "execution": {
     "iopub.execute_input": "2021-11-27T02:29:12.000125Z",
     "iopub.status.busy": "2021-11-27T02:29:11.999119Z",
     "iopub.status.idle": "2021-11-27T02:29:12.011751Z",
     "shell.execute_reply": "2021-11-27T02:29:12.011299Z",
     "shell.execute_reply.started": "2021-11-26T20:56:52.296856Z"
    },
    "papermill": {
     "duration": 0.05241,
     "end_time": "2021-11-27T02:29:12.011875",
     "exception": false,
     "start_time": "2021-11-27T02:29:11.959465",
     "status": "completed"
    },
    "tags": []
   },
   "outputs": [],
   "source": [
    "# Compiling the model\n",
    "xception_model.compile(loss=keras.losses.MeanSquaredError(), \n",
    "              optimizer=keras.optimizers.Adam(),\n",
    "              metrics=[keras.metrics.RootMeanSquaredError()]\n",
    "            )"
   ]
  },
  {
   "cell_type": "code",
   "execution_count": 27,
   "id": "4040170b",
   "metadata": {
    "execution": {
     "iopub.execute_input": "2021-11-27T02:29:12.083657Z",
     "iopub.status.busy": "2021-11-27T02:29:12.082877Z",
     "iopub.status.idle": "2021-11-27T02:55:01.833249Z",
     "shell.execute_reply": "2021-11-27T02:55:01.833754Z",
     "shell.execute_reply.started": "2021-11-26T20:56:56.198849Z"
    },
    "papermill": {
     "duration": 1549.789402,
     "end_time": "2021-11-27T02:55:01.833931",
     "exception": false,
     "start_time": "2021-11-27T02:29:12.044529",
     "status": "completed"
    },
    "tags": []
   },
   "outputs": [
    {
     "name": "stderr",
     "output_type": "stream",
     "text": [
      "2021-11-27 02:29:12.533638: I tensorflow/compiler/mlir/mlir_graph_optimization_pass.cc:185] None of the MLIR Optimization Passes are enabled (registered 2)\n"
     ]
    },
    {
     "name": "stdout",
     "output_type": "stream",
     "text": [
      "Epoch 1/20\n"
     ]
    },
    {
     "name": "stderr",
     "output_type": "stream",
     "text": [
      "2021-11-27 02:29:16.425870: I tensorflow/stream_executor/cuda/cuda_dnn.cc:369] Loaded cuDNN version 8005\n"
     ]
    },
    {
     "name": "stdout",
     "output_type": "stream",
     "text": [
      "236/236 [==============================] - 127s 503ms/step - loss: 1158.1185 - root_mean_squared_error: 34.0311 - val_loss: 580.8333 - val_root_mean_squared_error: 24.1005\n"
     ]
    },
    {
     "name": "stderr",
     "output_type": "stream",
     "text": [
      "/opt/conda/lib/python3.7/site-packages/keras/utils/generic_utils.py:497: CustomMaskWarning: Custom mask layers require a config and must override get_config. When loading, the custom mask layer must be passed to the custom_objects argument.\n",
      "  category=CustomMaskWarning)\n"
     ]
    },
    {
     "name": "stdout",
     "output_type": "stream",
     "text": [
      "Epoch 2/20\n",
      "236/236 [==============================] - 117s 496ms/step - loss: 434.9081 - root_mean_squared_error: 20.8545 - val_loss: 337.3733 - val_root_mean_squared_error: 18.3677\n",
      "Epoch 3/20\n",
      "236/236 [==============================] - 114s 481ms/step - loss: 365.8841 - root_mean_squared_error: 19.1281 - val_loss: 336.9746 - val_root_mean_squared_error: 18.3569\n",
      "Epoch 4/20\n",
      "236/236 [==============================] - 116s 491ms/step - loss: 357.6013 - root_mean_squared_error: 18.9104 - val_loss: 330.7681 - val_root_mean_squared_error: 18.1870\n",
      "Epoch 5/20\n",
      "236/236 [==============================] - 115s 489ms/step - loss: 350.4446 - root_mean_squared_error: 18.7202 - val_loss: 333.0731 - val_root_mean_squared_error: 18.2503\n",
      "Epoch 6/20\n",
      "236/236 [==============================] - 116s 490ms/step - loss: 350.2790 - root_mean_squared_error: 18.7157 - val_loss: 334.3909 - val_root_mean_squared_error: 18.2864\n",
      "Epoch 7/20\n",
      "236/236 [==============================] - 115s 486ms/step - loss: 347.6424 - root_mean_squared_error: 18.6452 - val_loss: 321.4272 - val_root_mean_squared_error: 17.9284\n",
      "Epoch 8/20\n",
      "236/236 [==============================] - 116s 493ms/step - loss: 339.1695 - root_mean_squared_error: 18.4166 - val_loss: 324.7724 - val_root_mean_squared_error: 18.0214\n",
      "Epoch 9/20\n",
      "236/236 [==============================] - 115s 487ms/step - loss: 342.0672 - root_mean_squared_error: 18.4951 - val_loss: 330.6692 - val_root_mean_squared_error: 18.1843\n",
      "Epoch 10/20\n",
      "236/236 [==============================] - 116s 489ms/step - loss: 339.1562 - root_mean_squared_error: 18.4162 - val_loss: 330.8688 - val_root_mean_squared_error: 18.1898\n",
      "Epoch 11/20\n",
      "236/236 [==============================] - 115s 486ms/step - loss: 338.1247 - root_mean_squared_error: 18.3882 - val_loss: 329.9249 - val_root_mean_squared_error: 18.1638\n",
      "Epoch 12/20\n",
      "236/236 [==============================] - 114s 484ms/step - loss: 337.5278 - root_mean_squared_error: 18.3719 - val_loss: 329.5725 - val_root_mean_squared_error: 18.1541\n"
     ]
    }
   ],
   "source": [
    "# Fitting the model\n",
    "xcp_history = xception_model.fit(train_generator, steps_per_epoch=STEP_SIZE_TRAIN, epochs=config.EPOCHS,\n",
    "                    validation_data=validation_generator, validation_steps=STEP_SIZE_VALIDATION,\n",
    "                    callbacks = [checkpoint_cb, early_stopping_cb, lr_scheduler]\n",
    "                   )"
   ]
  },
  {
   "cell_type": "code",
   "execution_count": 28,
   "id": "54980310",
   "metadata": {
    "execution": {
     "iopub.execute_input": "2021-11-27T02:55:03.812516Z",
     "iopub.status.busy": "2021-11-27T02:55:03.811214Z",
     "iopub.status.idle": "2021-11-27T02:55:46.499473Z",
     "shell.execute_reply": "2021-11-27T02:55:46.498697Z",
     "shell.execute_reply.started": "2021-11-26T21:42:38.337245Z"
    },
    "papermill": {
     "duration": 43.72775,
     "end_time": "2021-11-27T02:55:46.499604",
     "exception": false,
     "start_time": "2021-11-27T02:55:02.771854",
     "status": "completed"
    },
    "tags": []
   },
   "outputs": [
    {
     "name": "stdout",
     "output_type": "stream",
     "text": [
      "41/41 [==============================] - 17s 413ms/step - loss: 328.6160 - root_mean_squared_error: 18.1278\n"
     ]
    },
    {
     "data": {
      "text/plain": [
       "[328.61602783203125, 18.127769470214844]"
      ]
     },
     "execution_count": 28,
     "metadata": {},
     "output_type": "execute_result"
    }
   ],
   "source": [
    "# Evaluating the model on Validation Dataset\n",
    "xception_model.evaluate(validation_generator, steps=STEP_SIZE_VALIDATION)"
   ]
  },
  {
   "cell_type": "code",
   "execution_count": 29,
   "id": "56bb3f14",
   "metadata": {
    "execution": {
     "iopub.execute_input": "2021-11-27T02:55:48.048594Z",
     "iopub.status.busy": "2021-11-27T02:55:48.047771Z",
     "iopub.status.idle": "2021-11-27T02:55:48.058125Z",
     "shell.execute_reply": "2021-11-27T02:55:48.058626Z",
     "shell.execute_reply.started": "2021-11-26T21:58:03.002647Z"
    },
    "papermill": {
     "duration": 0.790297,
     "end_time": "2021-11-27T02:55:48.058766",
     "exception": false,
     "start_time": "2021-11-27T02:55:47.268469",
     "status": "completed"
    },
    "tags": []
   },
   "outputs": [
    {
     "name": "stdout",
     "output_type": "stream",
     "text": [
      "Found 992 validated image filenames.\n"
     ]
    }
   ],
   "source": [
    "# Creating an ImageDataGenerator for the test dataset\n",
    "test_datagen = ImageDataGenerator(\n",
    "    rescale = 1./255\n",
    ")\n",
    "\n",
    "test_generator = test_datagen.flow_from_dataframe(\n",
    "    dataframe=strat_test_set,\n",
    "    x_col=\"image_path\",\n",
    "    y_col=\"Pawpularity\",\n",
    "    batch_size=config.BATCH_SIZE,\n",
    "    seed = config.SEED,\n",
    "    shuffle=False,\n",
    "    class_mode=\"raw\",\n",
    "    target_size=(config.IMAGE_HEIGHT, config.IMAGE_WIDTH),\n",
    "    color_mode=\"rgb\"\n",
    ")"
   ]
  },
  {
   "cell_type": "code",
   "execution_count": 30,
   "id": "7e9f6620",
   "metadata": {
    "execution": {
     "iopub.execute_input": "2021-11-27T02:55:49.843802Z",
     "iopub.status.busy": "2021-11-27T02:55:49.842737Z",
     "iopub.status.idle": "2021-11-27T02:55:49.844756Z",
     "shell.execute_reply": "2021-11-27T02:55:49.845166Z",
     "shell.execute_reply.started": "2021-11-26T21:58:04.494452Z"
    },
    "papermill": {
     "duration": 0.775685,
     "end_time": "2021-11-27T02:55:49.845311",
     "exception": false,
     "start_time": "2021-11-27T02:55:49.069626",
     "status": "completed"
    },
    "tags": []
   },
   "outputs": [],
   "source": [
    "STEP_SIZE_TEST = test_generator.n // test_generator.batch_size"
   ]
  },
  {
   "cell_type": "code",
   "execution_count": 31,
   "id": "8b42bc95",
   "metadata": {
    "execution": {
     "iopub.execute_input": "2021-11-27T02:55:51.442947Z",
     "iopub.status.busy": "2021-11-27T02:55:51.442085Z",
     "iopub.status.idle": "2021-11-27T02:56:03.433182Z",
     "shell.execute_reply": "2021-11-27T02:56:03.432425Z",
     "shell.execute_reply.started": "2021-11-26T21:58:06.627137Z"
    },
    "papermill": {
     "duration": 12.813829,
     "end_time": "2021-11-27T02:56:03.433340",
     "exception": false,
     "start_time": "2021-11-27T02:55:50.619511",
     "status": "completed"
    },
    "tags": []
   },
   "outputs": [
    {
     "data": {
      "text/plain": [
       "array([[38.019775],\n",
       "       [46.040356],\n",
       "       [34.984978],\n",
       "       [23.426523],\n",
       "       [25.642958]], dtype=float32)"
      ]
     },
     "execution_count": 31,
     "metadata": {},
     "output_type": "execute_result"
    }
   ],
   "source": [
    "# Predicting values for the test dataset\n",
    "y_pred = xception_model.predict(test_generator)\n",
    "y_pred[:5]"
   ]
  },
  {
   "cell_type": "code",
   "execution_count": 32,
   "id": "bba8cde7",
   "metadata": {
    "execution": {
     "iopub.execute_input": "2021-11-27T02:56:05.014876Z",
     "iopub.status.busy": "2021-11-27T02:56:05.014056Z",
     "iopub.status.idle": "2021-11-27T02:56:15.212217Z",
     "shell.execute_reply": "2021-11-27T02:56:15.212685Z",
     "shell.execute_reply.started": "2021-11-26T21:57:38.810876Z"
    },
    "papermill": {
     "duration": 10.984886,
     "end_time": "2021-11-27T02:56:15.212838",
     "exception": false,
     "start_time": "2021-11-27T02:56:04.227952",
     "status": "completed"
    },
    "tags": []
   },
   "outputs": [
    {
     "data": {
      "text/plain": [
       "array([40., 35., 40., 30., 24.])"
      ]
     },
     "execution_count": 32,
     "metadata": {},
     "output_type": "execute_result"
    }
   ],
   "source": [
    "# Getting the actual values of the test dataset\n",
    "y_test = np.array([])\n",
    "num_batches = 0\n",
    "for _, y in test_generator:\n",
    "    y_test = np.append(y_test, y)\n",
    "    num_batches += 1\n",
    "    if num_batches == STEP_SIZE_TEST:\n",
    "        break\n",
    "y_test[:5]"
   ]
  },
  {
   "cell_type": "code",
   "execution_count": 33,
   "id": "1e3ecd1c",
   "metadata": {
    "execution": {
     "iopub.execute_input": "2021-11-27T02:56:16.799104Z",
     "iopub.status.busy": "2021-11-27T02:56:16.798476Z",
     "iopub.status.idle": "2021-11-27T02:56:16.801455Z",
     "shell.execute_reply": "2021-11-27T02:56:16.802047Z",
     "shell.execute_reply.started": "2021-11-26T22:01:33.446707Z"
    },
    "papermill": {
     "duration": 0.806789,
     "end_time": "2021-11-27T02:56:16.802226",
     "exception": false,
     "start_time": "2021-11-27T02:56:15.995437",
     "status": "completed"
    },
    "tags": []
   },
   "outputs": [
    {
     "name": "stdout",
     "output_type": "stream",
     "text": [
      "Mean Squared Error: 297.97143235437517\n",
      "Root Mean Squared Error: 17.261849042161593\n",
      "Mean Absolute Error: 12.82961844052038\n"
     ]
    }
   ],
   "source": [
    "# Importing metrics from sklearn\n",
    "from sklearn.metrics import mean_squared_error, mean_absolute_error\n",
    "mse = mean_squared_error(y_test, y_pred)\n",
    "rmse = mean_squared_error(y_test, y_pred, squared=False)\n",
    "mae = mean_absolute_error(y_test, y_pred)\n",
    "\n",
    "# Printing the results\n",
    "print(f\"Mean Squared Error: {mse}\")\n",
    "print(f\"Root Mean Squared Error: {rmse}\")\n",
    "print(f\"Mean Absolute Error: {mae}\")"
   ]
  },
  {
   "cell_type": "code",
   "execution_count": 34,
   "id": "577b0334",
   "metadata": {
    "execution": {
     "iopub.execute_input": "2021-11-27T02:56:18.349905Z",
     "iopub.status.busy": "2021-11-27T02:56:18.349114Z",
     "iopub.status.idle": "2021-11-27T02:56:31.078425Z",
     "shell.execute_reply": "2021-11-27T02:56:31.077959Z",
     "shell.execute_reply.started": "2021-11-26T22:03:03.473845Z"
    },
    "papermill": {
     "duration": 13.50548,
     "end_time": "2021-11-27T02:56:31.078553",
     "exception": false,
     "start_time": "2021-11-27T02:56:17.573073",
     "status": "completed"
    },
    "tags": []
   },
   "outputs": [
    {
     "name": "stdout",
     "output_type": "stream",
     "text": [
      "31/31 [==============================] - 12s 395ms/step - loss: 297.9714 - root_mean_squared_error: 17.2618\n"
     ]
    },
    {
     "data": {
      "text/plain": [
       "[297.971435546875, 17.26184844970703]"
      ]
     },
     "execution_count": 34,
     "metadata": {},
     "output_type": "execute_result"
    }
   ],
   "source": [
    "# Evaluating the model on test dataset\n",
    "xception_model.evaluate(test_generator, steps=STEP_SIZE_TEST)"
   ]
  },
  {
   "cell_type": "markdown",
   "id": "ea7b68ca",
   "metadata": {
    "papermill": {
     "duration": 0.970481,
     "end_time": "2021-11-27T02:56:32.833757",
     "exception": false,
     "start_time": "2021-11-27T02:56:31.863276",
     "status": "completed"
    },
    "tags": []
   },
   "source": [
    "# Making Predictions on the Competition Test data"
   ]
  },
  {
   "cell_type": "code",
   "execution_count": 35,
   "id": "42dfb2c4",
   "metadata": {
    "execution": {
     "iopub.execute_input": "2021-11-27T02:56:34.499690Z",
     "iopub.status.busy": "2021-11-27T02:56:34.499137Z",
     "iopub.status.idle": "2021-11-27T02:56:34.519245Z",
     "shell.execute_reply": "2021-11-27T02:56:34.518819Z",
     "shell.execute_reply.started": "2021-11-26T22:24:03.188165Z"
    },
    "papermill": {
     "duration": 0.846888,
     "end_time": "2021-11-27T02:56:34.519375",
     "exception": false,
     "start_time": "2021-11-27T02:56:33.672487",
     "status": "completed"
    },
    "tags": []
   },
   "outputs": [
    {
     "data": {
      "text/html": [
       "<div>\n",
       "<style scoped>\n",
       "    .dataframe tbody tr th:only-of-type {\n",
       "        vertical-align: middle;\n",
       "    }\n",
       "\n",
       "    .dataframe tbody tr th {\n",
       "        vertical-align: top;\n",
       "    }\n",
       "\n",
       "    .dataframe thead th {\n",
       "        text-align: right;\n",
       "    }\n",
       "</style>\n",
       "<table border=\"1\" class=\"dataframe\">\n",
       "  <thead>\n",
       "    <tr style=\"text-align: right;\">\n",
       "      <th></th>\n",
       "      <th>Id</th>\n",
       "      <th>Subject Focus</th>\n",
       "      <th>Eyes</th>\n",
       "      <th>Face</th>\n",
       "      <th>Near</th>\n",
       "      <th>Action</th>\n",
       "      <th>Accessory</th>\n",
       "      <th>Group</th>\n",
       "      <th>Collage</th>\n",
       "      <th>Human</th>\n",
       "      <th>Occlusion</th>\n",
       "      <th>Info</th>\n",
       "      <th>Blur</th>\n",
       "    </tr>\n",
       "  </thead>\n",
       "  <tbody>\n",
       "    <tr>\n",
       "      <th>0</th>\n",
       "      <td>4128bae22183829d2b5fea10effdb0c3</td>\n",
       "      <td>1</td>\n",
       "      <td>0</td>\n",
       "      <td>1</td>\n",
       "      <td>0</td>\n",
       "      <td>0</td>\n",
       "      <td>1</td>\n",
       "      <td>1</td>\n",
       "      <td>0</td>\n",
       "      <td>0</td>\n",
       "      <td>1</td>\n",
       "      <td>0</td>\n",
       "      <td>1</td>\n",
       "    </tr>\n",
       "    <tr>\n",
       "      <th>1</th>\n",
       "      <td>43a2262d7738e3d420d453815151079e</td>\n",
       "      <td>0</td>\n",
       "      <td>1</td>\n",
       "      <td>0</td>\n",
       "      <td>0</td>\n",
       "      <td>0</td>\n",
       "      <td>0</td>\n",
       "      <td>1</td>\n",
       "      <td>1</td>\n",
       "      <td>0</td>\n",
       "      <td>0</td>\n",
       "      <td>0</td>\n",
       "      <td>0</td>\n",
       "    </tr>\n",
       "    <tr>\n",
       "      <th>2</th>\n",
       "      <td>4e429cead1848a298432a0acad014c9d</td>\n",
       "      <td>0</td>\n",
       "      <td>0</td>\n",
       "      <td>0</td>\n",
       "      <td>1</td>\n",
       "      <td>0</td>\n",
       "      <td>1</td>\n",
       "      <td>1</td>\n",
       "      <td>1</td>\n",
       "      <td>0</td>\n",
       "      <td>1</td>\n",
       "      <td>1</td>\n",
       "      <td>1</td>\n",
       "    </tr>\n",
       "    <tr>\n",
       "      <th>3</th>\n",
       "      <td>80bc3ccafcc51b66303c2c263aa38486</td>\n",
       "      <td>1</td>\n",
       "      <td>0</td>\n",
       "      <td>1</td>\n",
       "      <td>0</td>\n",
       "      <td>0</td>\n",
       "      <td>0</td>\n",
       "      <td>0</td>\n",
       "      <td>0</td>\n",
       "      <td>0</td>\n",
       "      <td>0</td>\n",
       "      <td>1</td>\n",
       "      <td>0</td>\n",
       "    </tr>\n",
       "    <tr>\n",
       "      <th>4</th>\n",
       "      <td>8f49844c382931444e68dffbe20228f4</td>\n",
       "      <td>1</td>\n",
       "      <td>1</td>\n",
       "      <td>1</td>\n",
       "      <td>0</td>\n",
       "      <td>1</td>\n",
       "      <td>1</td>\n",
       "      <td>0</td>\n",
       "      <td>1</td>\n",
       "      <td>0</td>\n",
       "      <td>1</td>\n",
       "      <td>1</td>\n",
       "      <td>0</td>\n",
       "    </tr>\n",
       "  </tbody>\n",
       "</table>\n",
       "</div>"
      ],
      "text/plain": [
       "                                 Id  Subject Focus  Eyes  Face  Near  Action  \\\n",
       "0  4128bae22183829d2b5fea10effdb0c3              1     0     1     0       0   \n",
       "1  43a2262d7738e3d420d453815151079e              0     1     0     0       0   \n",
       "2  4e429cead1848a298432a0acad014c9d              0     0     0     1       0   \n",
       "3  80bc3ccafcc51b66303c2c263aa38486              1     0     1     0       0   \n",
       "4  8f49844c382931444e68dffbe20228f4              1     1     1     0       1   \n",
       "\n",
       "   Accessory  Group  Collage  Human  Occlusion  Info  Blur  \n",
       "0          1      1        0      0          1     0     1  \n",
       "1          0      1        1      0          0     0     0  \n",
       "2          1      1        1      0          1     1     1  \n",
       "3          0      0        0      0          0     1     0  \n",
       "4          1      0        1      0          1     1     0  "
      ]
     },
     "execution_count": 35,
     "metadata": {},
     "output_type": "execute_result"
    }
   ],
   "source": [
    "df_test = pd.read_csv(\"../input/petfinder-pawpularity-score/test.csv\")\n",
    "df_test.head()"
   ]
  },
  {
   "cell_type": "code",
   "execution_count": 36,
   "id": "df73329c",
   "metadata": {
    "execution": {
     "iopub.execute_input": "2021-11-27T02:56:36.090850Z",
     "iopub.status.busy": "2021-11-27T02:56:36.090207Z",
     "iopub.status.idle": "2021-11-27T02:56:36.194047Z",
     "shell.execute_reply": "2021-11-27T02:56:36.194532Z",
     "shell.execute_reply.started": "2021-11-26T22:37:40.625654Z"
    },
    "papermill": {
     "duration": 0.892472,
     "end_time": "2021-11-27T02:56:36.194684",
     "exception": false,
     "start_time": "2021-11-27T02:56:35.302212",
     "status": "completed"
    },
    "tags": []
   },
   "outputs": [
    {
     "name": "stdout",
     "output_type": "stream",
     "text": [
      "Found 8 images belonging to 1 classes.\n"
     ]
    }
   ],
   "source": [
    "# Creating a test data generator for our final submission\n",
    "final_test_gen = test_datagen.flow_from_directory(\"../input/petfinder-pawpularity-score\",\n",
    "                                                  classes=['test'],\n",
    "                                                  class_mode=None, target_size=(config.IMAGE_HEIGHT, config.IMAGE_WIDTH),\n",
    "                                                  batch_size=1\n",
    "                                                 )"
   ]
  },
  {
   "cell_type": "code",
   "execution_count": 37,
   "id": "f41bc638",
   "metadata": {
    "execution": {
     "iopub.execute_input": "2021-11-27T02:56:37.803550Z",
     "iopub.status.busy": "2021-11-27T02:56:37.802720Z",
     "iopub.status.idle": "2021-11-27T02:56:38.576221Z",
     "shell.execute_reply": "2021-11-27T02:56:38.577135Z",
     "shell.execute_reply.started": "2021-11-26T22:37:46.204858Z"
    },
    "papermill": {
     "duration": 1.567452,
     "end_time": "2021-11-27T02:56:38.577297",
     "exception": false,
     "start_time": "2021-11-27T02:56:37.009845",
     "status": "completed"
    },
    "tags": []
   },
   "outputs": [],
   "source": [
    "# Predicting values for our Test dataset\n",
    "y_final_pred = xception_model.predict(final_test_gen)"
   ]
  },
  {
   "cell_type": "code",
   "execution_count": 38,
   "id": "ac2f7c29",
   "metadata": {
    "execution": {
     "iopub.execute_input": "2021-11-27T02:56:40.223241Z",
     "iopub.status.busy": "2021-11-27T02:56:40.222315Z",
     "iopub.status.idle": "2021-11-27T02:56:40.224695Z",
     "shell.execute_reply": "2021-11-27T02:56:40.223995Z",
     "shell.execute_reply.started": "2021-11-26T22:39:28.679398Z"
    },
    "papermill": {
     "duration": 0.847055,
     "end_time": "2021-11-27T02:56:40.224850",
     "exception": false,
     "start_time": "2021-11-27T02:56:39.377795",
     "status": "completed"
    },
    "tags": []
   },
   "outputs": [],
   "source": [
    "df_test[\"Pawpularity\"] = y_final_pred"
   ]
  },
  {
   "cell_type": "code",
   "execution_count": 39,
   "id": "453fecc7",
   "metadata": {
    "execution": {
     "iopub.execute_input": "2021-11-27T02:56:42.184237Z",
     "iopub.status.busy": "2021-11-27T02:56:42.182241Z",
     "iopub.status.idle": "2021-11-27T02:56:42.191706Z",
     "shell.execute_reply": "2021-11-27T02:56:42.191276Z",
     "shell.execute_reply.started": "2021-11-26T22:41:04.216398Z"
    },
    "papermill": {
     "duration": 0.794722,
     "end_time": "2021-11-27T02:56:42.191848",
     "exception": false,
     "start_time": "2021-11-27T02:56:41.397126",
     "status": "completed"
    },
    "tags": []
   },
   "outputs": [
    {
     "data": {
      "text/html": [
       "<div>\n",
       "<style scoped>\n",
       "    .dataframe tbody tr th:only-of-type {\n",
       "        vertical-align: middle;\n",
       "    }\n",
       "\n",
       "    .dataframe tbody tr th {\n",
       "        vertical-align: top;\n",
       "    }\n",
       "\n",
       "    .dataframe thead th {\n",
       "        text-align: right;\n",
       "    }\n",
       "</style>\n",
       "<table border=\"1\" class=\"dataframe\">\n",
       "  <thead>\n",
       "    <tr style=\"text-align: right;\">\n",
       "      <th></th>\n",
       "      <th>Id</th>\n",
       "      <th>Pawpularity</th>\n",
       "    </tr>\n",
       "  </thead>\n",
       "  <tbody>\n",
       "    <tr>\n",
       "      <th>0</th>\n",
       "      <td>4128bae22183829d2b5fea10effdb0c3</td>\n",
       "      <td>50.090115</td>\n",
       "    </tr>\n",
       "    <tr>\n",
       "      <th>1</th>\n",
       "      <td>43a2262d7738e3d420d453815151079e</td>\n",
       "      <td>52.342354</td>\n",
       "    </tr>\n",
       "    <tr>\n",
       "      <th>2</th>\n",
       "      <td>4e429cead1848a298432a0acad014c9d</td>\n",
       "      <td>51.675934</td>\n",
       "    </tr>\n",
       "    <tr>\n",
       "      <th>3</th>\n",
       "      <td>80bc3ccafcc51b66303c2c263aa38486</td>\n",
       "      <td>49.533035</td>\n",
       "    </tr>\n",
       "    <tr>\n",
       "      <th>4</th>\n",
       "      <td>8f49844c382931444e68dffbe20228f4</td>\n",
       "      <td>50.031746</td>\n",
       "    </tr>\n",
       "    <tr>\n",
       "      <th>5</th>\n",
       "      <td>b03f7041962238a7c9d6537e22f9b017</td>\n",
       "      <td>52.675972</td>\n",
       "    </tr>\n",
       "    <tr>\n",
       "      <th>6</th>\n",
       "      <td>c978013571258ed6d4637f6e8cc9d6a3</td>\n",
       "      <td>52.673912</td>\n",
       "    </tr>\n",
       "    <tr>\n",
       "      <th>7</th>\n",
       "      <td>e0de453c1bffc20c22b072b34b54e50f</td>\n",
       "      <td>51.978912</td>\n",
       "    </tr>\n",
       "  </tbody>\n",
       "</table>\n",
       "</div>"
      ],
      "text/plain": [
       "                                 Id  Pawpularity\n",
       "0  4128bae22183829d2b5fea10effdb0c3    50.090115\n",
       "1  43a2262d7738e3d420d453815151079e    52.342354\n",
       "2  4e429cead1848a298432a0acad014c9d    51.675934\n",
       "3  80bc3ccafcc51b66303c2c263aa38486    49.533035\n",
       "4  8f49844c382931444e68dffbe20228f4    50.031746\n",
       "5  b03f7041962238a7c9d6537e22f9b017    52.675972\n",
       "6  c978013571258ed6d4637f6e8cc9d6a3    52.673912\n",
       "7  e0de453c1bffc20c22b072b34b54e50f    51.978912"
      ]
     },
     "execution_count": 39,
     "metadata": {},
     "output_type": "execute_result"
    }
   ],
   "source": [
    "submissions = pd.DataFrame(df_test[[\"Id\", \"Pawpularity\"]])\n",
    "submissions"
   ]
  },
  {
   "cell_type": "code",
   "execution_count": 40,
   "id": "07de1679",
   "metadata": {
    "execution": {
     "iopub.execute_input": "2021-11-27T02:56:44.043486Z",
     "iopub.status.busy": "2021-11-27T02:56:44.042507Z",
     "iopub.status.idle": "2021-11-27T02:56:44.044217Z",
     "shell.execute_reply": "2021-11-27T02:56:44.044644Z",
     "shell.execute_reply.started": "2021-11-26T22:41:47.34927Z"
    },
    "papermill": {
     "duration": 1.032194,
     "end_time": "2021-11-27T02:56:44.044791",
     "exception": false,
     "start_time": "2021-11-27T02:56:43.012597",
     "status": "completed"
    },
    "tags": []
   },
   "outputs": [],
   "source": [
    "# Saving the Submission File\n",
    "submissions.to_csv(\"submission.csv\", index=False)"
   ]
  }
 ],
 "metadata": {
  "kernelspec": {
   "display_name": "Python 3",
   "language": "python",
   "name": "python3"
  },
  "language_info": {
   "codemirror_mode": {
    "name": "ipython",
    "version": 3
   },
   "file_extension": ".py",
   "mimetype": "text/x-python",
   "name": "python",
   "nbconvert_exporter": "python",
   "pygments_lexer": "ipython3",
   "version": "3.7.10"
  },
  "papermill": {
   "default_parameters": {},
   "duration": 1719.524747,
   "end_time": "2021-11-27T02:56:47.883300",
   "environment_variables": {},
   "exception": null,
   "input_path": "__notebook__.ipynb",
   "output_path": "__notebook__.ipynb",
   "parameters": {},
   "start_time": "2021-11-27T02:28:08.358553",
   "version": "2.3.3"
  }
 },
 "nbformat": 4,
 "nbformat_minor": 5
}
